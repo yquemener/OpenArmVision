{
 "cells": [
  {
   "cell_type": "code",
   "execution_count": 6,
   "metadata": {},
   "outputs": [],
   "source": [
    "import sqlite3, os"
   ]
  },
  {
   "cell_type": "code",
   "execution_count": 7,
   "metadata": {},
   "outputs": [
    {
     "data": {
      "text/plain": [
       "['candidates',\n",
       " 'labels',\n",
       " 'dataset.db',\n",
       " 'images',\n",
       " 'dataset.yaml',\n",
       " 'labels.cache',\n",
       " 'new_visionUI.db',\n",
       " 'visionUI.db']"
      ]
     },
     "execution_count": 7,
     "metadata": {},
     "output_type": "execute_result"
    }
   ],
   "source": [
    "os.listdir(\"../visionUI/vhelio_holes/\")\n"
   ]
  },
  {
   "cell_type": "code",
   "execution_count": 8,
   "metadata": {},
   "outputs": [
    {
     "data": {
      "text/plain": [
       "<sqlite3.Connection at 0x7430b04c4440>"
      ]
     },
     "execution_count": 8,
     "metadata": {},
     "output_type": "execute_result"
    }
   ],
   "source": [
    "sqlite3.connect(\"../visionUI/vhelio_holes/dataset.db\")"
   ]
  },
  {
   "cell_type": "code",
   "execution_count": 13,
   "metadata": {},
   "outputs": [
    {
     "data": {
      "text/plain": [
       "'\\nTable: annotations\\n  - id (INTEGER)\\n  - file_id (TEXT)\\n  - type (INTEGER)\\n  - x (NUMERIC)\\n  - y (NUMERIC)\\n  - x2 (NUMERIC)\\n  - y2 (NUMERIC)\\n  - class_id (INTEGER)\\n  - confidence (NUMERIC)\\n\\nTable: sqlite_sequence\\n  - name ()\\n  - seq ()\\n\\nTable: classes\\n  - id (INTEGER)\\n  - name (TEXT)\\n  - description (TEXT)\\n  - encoding (INTEGER)\\n  - type (INTEGER)'"
      ]
     },
     "execution_count": 13,
     "metadata": {},
     "output_type": "execute_result"
    }
   ],
   "source": [
    "def explore_database(db_path):\n",
    "    # Connect to the database\n",
    "    conn = sqlite3.connect(db_path)\n",
    "    cursor = conn.cursor()\n",
    "\n",
    "    result = []\n",
    "\n",
    "    # Get all table names\n",
    "    cursor.execute(\"SELECT name FROM sqlite_master WHERE type='table';\")\n",
    "    tables = cursor.fetchall()\n",
    "\n",
    "    # Explore tables and their columns\n",
    "    for table in tables:\n",
    "        table_name = table[0]\n",
    "        result.append(f\"\\nTable: {table_name}\")\n",
    "        \n",
    "        # Get column information for each table\n",
    "        cursor.execute(f\"PRAGMA table_info({table_name})\")\n",
    "        columns = cursor.fetchall()\n",
    "        \n",
    "        for column in columns:\n",
    "            result.append(f\"  - {column[1]} ({column[2]})\")\n",
    "\n",
    "    # Close the connection\n",
    "    conn.close()\n",
    "\n",
    "    return \"\\n\".join(result)\n",
    "\n",
    "# Use the function and return the result\n",
    "explore_database(\"../visionUI/vhelio_holes/visionUI.db\")"
   ]
  },
  {
   "cell_type": "code",
   "execution_count": 14,
   "metadata": {},
   "outputs": [
    {
     "name": "stdout",
     "output_type": "stream",
     "text": [
      "\n",
      "Table: annotations\n",
      "  - id (INTEGER)\n",
      "  - file_id (TEXT)\n",
      "  - type (INTEGER)\n",
      "  - x (NUMERIC)\n",
      "  - y (NUMERIC)\n",
      "  - x2 (NUMERIC)\n",
      "  - y2 (NUMERIC)\n",
      "  - class_id (INTEGER)\n",
      "  - confidence (NUMERIC)\n",
      "\n",
      "Table: sqlite_sequence\n",
      "  - name ()\n",
      "  - seq ()\n",
      "\n",
      "Table: classes\n",
      "  - id (INTEGER)\n",
      "  - name (TEXT)\n",
      "  - description (TEXT)\n",
      "  - encoding (INTEGER)\n",
      "  - type (INTEGER)\n"
     ]
    }
   ],
   "source": [
    "print(_)"
   ]
  },
  {
   "cell_type": "code",
   "execution_count": 3,
   "metadata": {},
   "outputs": [
    {
     "name": "stdout",
     "output_type": "stream",
     "text": [
      "Starting data import...\n",
      "Importing classes...\n"
     ]
    },
    {
     "name": "stderr",
     "output_type": "stream",
     "text": [
      "100%|██████████| 2/2 [00:00<00:00, 39568.91it/s]\n"
     ]
    },
    {
     "name": "stdout",
     "output_type": "stream",
     "text": [
      "Importing annotations...\n"
     ]
    },
    {
     "name": "stderr",
     "output_type": "stream",
     "text": [
      "100%|██████████| 1816/1816 [00:00<00:00, 764130.83it/s]\n"
     ]
    },
    {
     "name": "stdout",
     "output_type": "stream",
     "text": [
      "Importing images...\n"
     ]
    },
    {
     "name": "stderr",
     "output_type": "stream",
     "text": [
      "Processing images: 100%|██████████| 1745/1745 [00:01<00:00, 888.17it/s]"
     ]
    },
    {
     "name": "stdout",
     "output_type": "stream",
     "text": [
      "\n",
      "Import completed:\n",
      "Imported 1816 annotations\n",
      "Imported 2 classes\n",
      "Imported 1433 images\n"
     ]
    },
    {
     "name": "stderr",
     "output_type": "stream",
     "text": [
      "\n"
     ]
    }
   ],
   "source": [
    "import sqlite3\n",
    "import os\n",
    "from PIL import Image\n",
    "import io\n",
    "from tqdm import tqdm\n",
    "import concurrent.futures\n",
    "\n",
    "def process_image(file_path):\n",
    "    with Image.open(file_path) as img:\n",
    "        width, height = img.size\n",
    "        # Redimensionner l'image si elle est trop grande\n",
    "        if width > 1024 or height > 1024:\n",
    "            img.thumbnail((1024, 1024))\n",
    "        # Convertir en JPEG au lieu de PNG pour une meilleure compression\n",
    "        img_byte_arr = io.BytesIO()\n",
    "        img.save(img_byte_arr, format='JPEG', quality=85)\n",
    "        return {\n",
    "            'data': img_byte_arr.getvalue(),\n",
    "            'width': img.width,\n",
    "            'height': img.height\n",
    "        }\n",
    "\n",
    "def import_data(db_path, image_dirs):\n",
    "    conn = sqlite3.connect(db_path)\n",
    "    cursor = conn.cursor()\n",
    "\n",
    "    data = {\n",
    "        'annotations': [],\n",
    "        'classes': {},\n",
    "        'images': {}\n",
    "    }\n",
    "\n",
    "    print(\"Importing classes...\")\n",
    "    cursor.execute(\"SELECT * FROM classes\")\n",
    "    for row in tqdm(cursor.fetchall()):\n",
    "        data['classes'][row[0]] = {\n",
    "            'name': row[1],\n",
    "            'description': row[2],\n",
    "            'encoding': row[3],\n",
    "            'type': row[4]\n",
    "        }\n",
    "\n",
    "    print(\"Importing annotations...\")\n",
    "    cursor.execute(\"SELECT * FROM annotations\")\n",
    "    data['annotations'] = [dict(zip(['id', 'file_id', 'type', 'x', 'y', 'x2', 'y2', 'class_id', 'confidence'], row)) \n",
    "                           for row in tqdm(cursor.fetchall())]\n",
    "\n",
    "    conn.close()\n",
    "\n",
    "    print(\"Importing images...\")\n",
    "    with concurrent.futures.ThreadPoolExecutor(max_workers=os.cpu_count()) as executor:\n",
    "        future_to_file = {}\n",
    "        for dir_name in image_dirs:\n",
    "            dir_path = os.path.join(os.path.dirname(db_path), dir_name)\n",
    "            if os.path.exists(dir_path):\n",
    "                files = [f for f in os.listdir(dir_path) if f.lower().endswith(('.png', '.jpg', '.jpeg', '.tiff', '.bmp', '.gif'))]\n",
    "                for filename in files:\n",
    "                    file_path = os.path.join(dir_path, filename)\n",
    "                    future = executor.submit(process_image, file_path)\n",
    "                    future_to_file[future] = filename\n",
    "\n",
    "        for future in tqdm(concurrent.futures.as_completed(future_to_file), total=len(future_to_file), desc=\"Processing images\"):\n",
    "            filename = future_to_file[future]\n",
    "            try:\n",
    "                data['images'][filename] = future.result()\n",
    "            except Exception as exc:\n",
    "                print(f'{filename} generated an exception: {exc}')\n",
    "\n",
    "    return data\n",
    "\n",
    "# Usage\n",
    "db_path = \"../visionUI/vhelio_holes/visionUI.db\"\n",
    "image_dirs = [\"candidates\", \"keyframes\", \"images\"]\n",
    "\n",
    "print(\"Starting data import...\")\n",
    "imported_data = import_data(db_path, image_dirs)\n",
    "\n",
    "print(f\"\\nImport completed:\")\n",
    "print(f\"Imported {len(imported_data['annotations'])} annotations\")\n",
    "print(f\"Imported {len(imported_data['classes'])} classes\")\n",
    "print(f\"Imported {len(imported_data['images'])} images\")"
   ]
  },
  {
   "cell_type": "code",
   "execution_count": 4,
   "metadata": {},
   "outputs": [
    {
     "data": {
      "text/plain": [
       "['2024-07-19_16-19-55.303542.jpg',\n",
       " '2024-07-19_16-19-56.304799.jpg',\n",
       " '2024-04-22_17-08-41.837425.jpg',\n",
       " '2024-07-30_20-13-51.751979.jpg',\n",
       " '2024-08-01_14-19-44.842556.jpg',\n",
       " '2024-07-30_20-13-57.995781.jpg',\n",
       " '2024-04-22_17-07-51.839890.jpg',\n",
       " '2024-04-22_17-09-42.345629.jpg',\n",
       " '2024-07-30_20-14-55.829561.jpg',\n",
       " '2024-05-21_17-56-56.836300.jpg']"
      ]
     },
     "execution_count": 4,
     "metadata": {},
     "output_type": "execute_result"
    }
   ],
   "source": [
    "list(imported_data['images'].keys())[:10]\n"
   ]
  },
  {
   "cell_type": "code",
   "execution_count": null,
   "metadata": {},
   "outputs": [],
   "source": []
  },
  {
   "cell_type": "code",
   "execution_count": 9,
   "metadata": {},
   "outputs": [
    {
     "name": "stdout",
     "output_type": "stream",
     "text": [
      "Importing images and annotations...\n"
     ]
    },
    {
     "name": "stderr",
     "output_type": "stream",
     "text": [
      "Processing images:   0%|          | 0/1433 [00:00<?, ?it/s]\n"
     ]
    },
    {
     "ename": "FileNotFoundError",
     "evalue": "[Errno 2] No such file or directory: '/home/yves/Projects/active/HLA/MUAL/OpenArmVision/visionAI/2024-07-19_16-19-55.303542.jpg'",
     "output_type": "error",
     "traceback": [
      "\u001b[0;31m---------------------------------------------------------------------------\u001b[0m",
      "\u001b[0;31mFileNotFoundError\u001b[0m                         Traceback (most recent call last)",
      "Cell \u001b[0;32mIn[9], line 67\u001b[0m\n\u001b[1;32m     64\u001b[0m current_dir \u001b[38;5;241m=\u001b[39m os\u001b[38;5;241m.\u001b[39mgetcwd()\n\u001b[1;32m     65\u001b[0m new_db_dir \u001b[38;5;241m=\u001b[39m os\u001b[38;5;241m.\u001b[39mpath\u001b[38;5;241m.\u001b[39mjoin(current_dir, \u001b[38;5;124m\"\u001b[39m\u001b[38;5;124mtest2\u001b[39m\u001b[38;5;124m\"\u001b[39m)\n\u001b[0;32m---> 67\u001b[0m new_db \u001b[38;5;241m=\u001b[39m \u001b[43mimport_to_new_database\u001b[49m\u001b[43m(\u001b[49m\u001b[43mimported_data\u001b[49m\u001b[43m,\u001b[49m\u001b[43m \u001b[49m\u001b[43mnew_db_dir\u001b[49m\u001b[43m)\u001b[49m\n\u001b[1;32m     69\u001b[0m \u001b[38;5;66;03m# Print some statistics about the new database\u001b[39;00m\n\u001b[1;32m     70\u001b[0m \u001b[38;5;28;01mwith\u001b[39;00m new_db\u001b[38;5;241m.\u001b[39mSessionLocal() \u001b[38;5;28;01mas\u001b[39;00m session:\n",
      "Cell \u001b[0;32mIn[9], line 31\u001b[0m, in \u001b[0;36mimport_to_new_database\u001b[0;34m(imported_data, new_db_dir)\u001b[0m\n\u001b[1;32m     29\u001b[0m dst_dir \u001b[38;5;241m=\u001b[39m keyframes_dir \u001b[38;5;28;01mif\u001b[39;00m is_keyframe \u001b[38;5;28;01melse\u001b[39;00m candidates_dir\n\u001b[1;32m     30\u001b[0m dst_path \u001b[38;5;241m=\u001b[39m os\u001b[38;5;241m.\u001b[39mpath\u001b[38;5;241m.\u001b[39mjoin(dst_dir, filename)\n\u001b[0;32m---> 31\u001b[0m \u001b[43mshutil\u001b[49m\u001b[38;5;241;43m.\u001b[39;49m\u001b[43mcopy2\u001b[49m\u001b[43m(\u001b[49m\u001b[43msrc_path\u001b[49m\u001b[43m,\u001b[49m\u001b[43m \u001b[49m\u001b[43mdst_path\u001b[49m\u001b[43m)\u001b[49m\n\u001b[1;32m     33\u001b[0m \u001b[38;5;66;03m# Add the image to the new database\u001b[39;00m\n\u001b[1;32m     34\u001b[0m relative_path \u001b[38;5;241m=\u001b[39m os\u001b[38;5;241m.\u001b[39mpath\u001b[38;5;241m.\u001b[39mrelpath(dst_path, new_db_dir)\n",
      "File \u001b[0;32m/usr/lib/python3.10/shutil.py:434\u001b[0m, in \u001b[0;36mcopy2\u001b[0;34m(src, dst, follow_symlinks)\u001b[0m\n\u001b[1;32m    432\u001b[0m \u001b[38;5;28;01mif\u001b[39;00m os\u001b[38;5;241m.\u001b[39mpath\u001b[38;5;241m.\u001b[39misdir(dst):\n\u001b[1;32m    433\u001b[0m     dst \u001b[38;5;241m=\u001b[39m os\u001b[38;5;241m.\u001b[39mpath\u001b[38;5;241m.\u001b[39mjoin(dst, os\u001b[38;5;241m.\u001b[39mpath\u001b[38;5;241m.\u001b[39mbasename(src))\n\u001b[0;32m--> 434\u001b[0m \u001b[43mcopyfile\u001b[49m\u001b[43m(\u001b[49m\u001b[43msrc\u001b[49m\u001b[43m,\u001b[49m\u001b[43m \u001b[49m\u001b[43mdst\u001b[49m\u001b[43m,\u001b[49m\u001b[43m \u001b[49m\u001b[43mfollow_symlinks\u001b[49m\u001b[38;5;241;43m=\u001b[39;49m\u001b[43mfollow_symlinks\u001b[49m\u001b[43m)\u001b[49m\n\u001b[1;32m    435\u001b[0m copystat(src, dst, follow_symlinks\u001b[38;5;241m=\u001b[39mfollow_symlinks)\n\u001b[1;32m    436\u001b[0m \u001b[38;5;28;01mreturn\u001b[39;00m dst\n",
      "File \u001b[0;32m/usr/lib/python3.10/shutil.py:254\u001b[0m, in \u001b[0;36mcopyfile\u001b[0;34m(src, dst, follow_symlinks)\u001b[0m\n\u001b[1;32m    252\u001b[0m     os\u001b[38;5;241m.\u001b[39msymlink(os\u001b[38;5;241m.\u001b[39mreadlink(src), dst)\n\u001b[1;32m    253\u001b[0m \u001b[38;5;28;01melse\u001b[39;00m:\n\u001b[0;32m--> 254\u001b[0m     \u001b[38;5;28;01mwith\u001b[39;00m \u001b[38;5;28;43mopen\u001b[39;49m\u001b[43m(\u001b[49m\u001b[43msrc\u001b[49m\u001b[43m,\u001b[49m\u001b[43m \u001b[49m\u001b[38;5;124;43m'\u001b[39;49m\u001b[38;5;124;43mrb\u001b[39;49m\u001b[38;5;124;43m'\u001b[39;49m\u001b[43m)\u001b[49m \u001b[38;5;28;01mas\u001b[39;00m fsrc:\n\u001b[1;32m    255\u001b[0m         \u001b[38;5;28;01mtry\u001b[39;00m:\n\u001b[1;32m    256\u001b[0m             \u001b[38;5;28;01mwith\u001b[39;00m \u001b[38;5;28mopen\u001b[39m(dst, \u001b[38;5;124m'\u001b[39m\u001b[38;5;124mwb\u001b[39m\u001b[38;5;124m'\u001b[39m) \u001b[38;5;28;01mas\u001b[39;00m fdst:\n\u001b[1;32m    257\u001b[0m                 \u001b[38;5;66;03m# macOS\u001b[39;00m\n",
      "\u001b[0;31mFileNotFoundError\u001b[0m: [Errno 2] No such file or directory: '/home/yves/Projects/active/HLA/MUAL/OpenArmVision/visionAI/2024-07-19_16-19-55.303542.jpg'"
     ]
    }
   ],
   "source": [
    "from database import DatabaseManager, Image, Annotation\n",
    "import os\n",
    "import shutil\n",
    "from tqdm import tqdm\n",
    "\n",
    "def import_to_new_database(imported_data, new_db_dir):\n",
    "    # Ensure the directory for the new database exists\n",
    "    os.makedirs(new_db_dir, exist_ok=True)\n",
    "    \n",
    "    # Create paths for the new database and image directories\n",
    "    new_db_path = os.path.join(new_db_dir, \"dataset.db\")\n",
    "    candidates_dir = os.path.join(new_db_dir, \"candidates\")\n",
    "    keyframes_dir = os.path.join(new_db_dir, \"keyframes\")\n",
    "    \n",
    "    # Create image directories\n",
    "    os.makedirs(candidates_dir, exist_ok=True)\n",
    "    os.makedirs(keyframes_dir, exist_ok=True)\n",
    "    \n",
    "    # Create a new database manager\n",
    "    new_db = DatabaseManager(new_db_path)\n",
    "\n",
    "    print(\"Importing images and annotations...\")\n",
    "    for filename, img_data in tqdm(imported_data['images'].items(), desc=\"Processing images\"):\n",
    "        # Determine if the image is a candidate or keyframe (you may need to adjust this logic)\n",
    "        is_keyframe = any(ann['file_id'] == filename for ann in imported_data['annotations'])\n",
    "        \n",
    "        # Copy the image to the appropriate directory\n",
    "        src_path = os.path.join(os.path.dirname(new_db_dir), filename)\n",
    "        dst_dir = keyframes_dir if is_keyframe else candidates_dir\n",
    "        dst_path = os.path.join(dst_dir, filename)\n",
    "        shutil.copy2(src_path, dst_path)\n",
    "        \n",
    "        # Add the image to the new database\n",
    "        relative_path = os.path.relpath(dst_path, new_db_dir)\n",
    "        new_image = new_db.add_image(\n",
    "            path=relative_path,\n",
    "            width=img_data['width'],\n",
    "            height=img_data['height'],\n",
    "            is_train=is_keyframe,  # Assuming all keyframes are for training\n",
    "            is_test=False  # You may want to adjust this based on your needs\n",
    "        )\n",
    "        \n",
    "        if new_image:\n",
    "            # Find and add annotations for this image\n",
    "            for ann in imported_data['annotations']:\n",
    "                if ann['file_id'] == filename:\n",
    "                    # Determine the annotation type\n",
    "                    ann_type = 'point' if ann['type'] == 1 else 'rectangle' if ann['type'] == 3 else 'unknown'\n",
    "                    \n",
    "                    new_db.add_annotation(\n",
    "                        image_id=new_image.id,\n",
    "                        annotation_type=ann_type,\n",
    "                        x1=ann['x'],\n",
    "                        y1=ann['y'],\n",
    "                        x2=ann['x2'] if ann_type == 'rectangle' else None,\n",
    "                        y2=ann['y2'] if ann_type == 'rectangle' else None,\n",
    "                        class_name=imported_data['classes'].get(ann['class_id'], {}).get('name', 'unknown')\n",
    "                    )\n",
    "\n",
    "    print(f\"Import completed. New database created at {new_db_path}\")\n",
    "    return new_db\n",
    "\n",
    "# Usage\n",
    "current_dir = os.getcwd()\n",
    "new_db_dir = os.path.join(current_dir, \"test2\")\n",
    "\n",
    "new_db = import_to_new_database(imported_data, new_db_dir)\n",
    "\n",
    "# Print some statistics about the new database\n",
    "with new_db.SessionLocal() as session:\n",
    "    image_count = session.query(Image).count()\n",
    "    annotation_count = session.query(Annotation).count()\n",
    "    point_count = session.query(Annotation).filter_by(type='point').count()\n",
    "    rectangle_count = session.query(Annotation).filter_by(type='rectangle').count()\n",
    "    candidate_count = session.query(Image).filter_by(is_train=False, is_test=False).count()\n",
    "    keyframe_count = session.query(Image).filter_by(is_train=True).count()\n",
    "\n",
    "print(f\"New database statistics:\")\n",
    "print(f\"Total images: {image_count}\")\n",
    "print(f\"Candidate images: {candidate_count}\")\n",
    "print(f\"Keyframe images: {keyframe_count}\")\n",
    "print(f\"Total annotations: {annotation_count}\")\n",
    "print(f\"Point annotations: {point_count}\")\n",
    "print(f\"Rectangle annotations: {rectangle_count}\")"
   ]
  },
  {
   "cell_type": "code",
   "execution_count": null,
   "metadata": {},
   "outputs": [],
   "source": []
  }
 ],
 "metadata": {
  "kernelspec": {
   "display_name": "venv",
   "language": "python",
   "name": "venv"
  },
  "language_info": {
   "codemirror_mode": {
    "name": "ipython",
    "version": 3
   },
   "file_extension": ".py",
   "mimetype": "text/x-python",
   "name": "python",
   "nbconvert_exporter": "python",
   "pygments_lexer": "ipython3",
   "version": "3.10.12"
  }
 },
 "nbformat": 4,
 "nbformat_minor": 2
}
